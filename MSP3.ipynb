{
  "nbformat": 4,
  "nbformat_minor": 0,
  "metadata": {
    "colab": {
      "provenance": []
    },
    "kernelspec": {
      "name": "python3",
      "display_name": "Python 3"
    },
    "language_info": {
      "name": "python"
    }
  },
  "cells": [
    {
      "cell_type": "code",
      "execution_count": 135,
      "metadata": {
        "id": "r1wJmHl2lv0F"
      },
      "outputs": [],
      "source": [
        "from google.colab import files\n",
        "import pandas as pd\n",
        "import numpy as np"
      ]
    },
    {
      "cell_type": "code",
      "source": [
        "upload = files.upload()"
      ],
      "metadata": {
        "colab": {
          "base_uri": "https://localhost:8080/",
          "height": 73
        },
        "id": "PYsesLPFnCNy",
        "outputId": "bbc9855d-d803-4d76-854c-3eb928a2f623"
      },
      "execution_count": 136,
      "outputs": [
        {
          "output_type": "display_data",
          "data": {
            "text/plain": [
              "<IPython.core.display.HTML object>"
            ],
            "text/html": [
              "\n",
              "     <input type=\"file\" id=\"files-92c57a18-a9e5-49f0-9760-440b4c2be8f9\" name=\"files[]\" multiple disabled\n",
              "        style=\"border:none\" />\n",
              "     <output id=\"result-92c57a18-a9e5-49f0-9760-440b4c2be8f9\">\n",
              "      Upload widget is only available when the cell has been executed in the\n",
              "      current browser session. Please rerun this cell to enable.\n",
              "      </output>\n",
              "      <script>// Copyright 2017 Google LLC\n",
              "//\n",
              "// Licensed under the Apache License, Version 2.0 (the \"License\");\n",
              "// you may not use this file except in compliance with the License.\n",
              "// You may obtain a copy of the License at\n",
              "//\n",
              "//      http://www.apache.org/licenses/LICENSE-2.0\n",
              "//\n",
              "// Unless required by applicable law or agreed to in writing, software\n",
              "// distributed under the License is distributed on an \"AS IS\" BASIS,\n",
              "// WITHOUT WARRANTIES OR CONDITIONS OF ANY KIND, either express or implied.\n",
              "// See the License for the specific language governing permissions and\n",
              "// limitations under the License.\n",
              "\n",
              "/**\n",
              " * @fileoverview Helpers for google.colab Python module.\n",
              " */\n",
              "(function(scope) {\n",
              "function span(text, styleAttributes = {}) {\n",
              "  const element = document.createElement('span');\n",
              "  element.textContent = text;\n",
              "  for (const key of Object.keys(styleAttributes)) {\n",
              "    element.style[key] = styleAttributes[key];\n",
              "  }\n",
              "  return element;\n",
              "}\n",
              "\n",
              "// Max number of bytes which will be uploaded at a time.\n",
              "const MAX_PAYLOAD_SIZE = 100 * 1024;\n",
              "\n",
              "function _uploadFiles(inputId, outputId) {\n",
              "  const steps = uploadFilesStep(inputId, outputId);\n",
              "  const outputElement = document.getElementById(outputId);\n",
              "  // Cache steps on the outputElement to make it available for the next call\n",
              "  // to uploadFilesContinue from Python.\n",
              "  outputElement.steps = steps;\n",
              "\n",
              "  return _uploadFilesContinue(outputId);\n",
              "}\n",
              "\n",
              "// This is roughly an async generator (not supported in the browser yet),\n",
              "// where there are multiple asynchronous steps and the Python side is going\n",
              "// to poll for completion of each step.\n",
              "// This uses a Promise to block the python side on completion of each step,\n",
              "// then passes the result of the previous step as the input to the next step.\n",
              "function _uploadFilesContinue(outputId) {\n",
              "  const outputElement = document.getElementById(outputId);\n",
              "  const steps = outputElement.steps;\n",
              "\n",
              "  const next = steps.next(outputElement.lastPromiseValue);\n",
              "  return Promise.resolve(next.value.promise).then((value) => {\n",
              "    // Cache the last promise value to make it available to the next\n",
              "    // step of the generator.\n",
              "    outputElement.lastPromiseValue = value;\n",
              "    return next.value.response;\n",
              "  });\n",
              "}\n",
              "\n",
              "/**\n",
              " * Generator function which is called between each async step of the upload\n",
              " * process.\n",
              " * @param {string} inputId Element ID of the input file picker element.\n",
              " * @param {string} outputId Element ID of the output display.\n",
              " * @return {!Iterable<!Object>} Iterable of next steps.\n",
              " */\n",
              "function* uploadFilesStep(inputId, outputId) {\n",
              "  const inputElement = document.getElementById(inputId);\n",
              "  inputElement.disabled = false;\n",
              "\n",
              "  const outputElement = document.getElementById(outputId);\n",
              "  outputElement.innerHTML = '';\n",
              "\n",
              "  const pickedPromise = new Promise((resolve) => {\n",
              "    inputElement.addEventListener('change', (e) => {\n",
              "      resolve(e.target.files);\n",
              "    });\n",
              "  });\n",
              "\n",
              "  const cancel = document.createElement('button');\n",
              "  inputElement.parentElement.appendChild(cancel);\n",
              "  cancel.textContent = 'Cancel upload';\n",
              "  const cancelPromise = new Promise((resolve) => {\n",
              "    cancel.onclick = () => {\n",
              "      resolve(null);\n",
              "    };\n",
              "  });\n",
              "\n",
              "  // Wait for the user to pick the files.\n",
              "  const files = yield {\n",
              "    promise: Promise.race([pickedPromise, cancelPromise]),\n",
              "    response: {\n",
              "      action: 'starting',\n",
              "    }\n",
              "  };\n",
              "\n",
              "  cancel.remove();\n",
              "\n",
              "  // Disable the input element since further picks are not allowed.\n",
              "  inputElement.disabled = true;\n",
              "\n",
              "  if (!files) {\n",
              "    return {\n",
              "      response: {\n",
              "        action: 'complete',\n",
              "      }\n",
              "    };\n",
              "  }\n",
              "\n",
              "  for (const file of files) {\n",
              "    const li = document.createElement('li');\n",
              "    li.append(span(file.name, {fontWeight: 'bold'}));\n",
              "    li.append(span(\n",
              "        `(${file.type || 'n/a'}) - ${file.size} bytes, ` +\n",
              "        `last modified: ${\n",
              "            file.lastModifiedDate ? file.lastModifiedDate.toLocaleDateString() :\n",
              "                                    'n/a'} - `));\n",
              "    const percent = span('0% done');\n",
              "    li.appendChild(percent);\n",
              "\n",
              "    outputElement.appendChild(li);\n",
              "\n",
              "    const fileDataPromise = new Promise((resolve) => {\n",
              "      const reader = new FileReader();\n",
              "      reader.onload = (e) => {\n",
              "        resolve(e.target.result);\n",
              "      };\n",
              "      reader.readAsArrayBuffer(file);\n",
              "    });\n",
              "    // Wait for the data to be ready.\n",
              "    let fileData = yield {\n",
              "      promise: fileDataPromise,\n",
              "      response: {\n",
              "        action: 'continue',\n",
              "      }\n",
              "    };\n",
              "\n",
              "    // Use a chunked sending to avoid message size limits. See b/62115660.\n",
              "    let position = 0;\n",
              "    do {\n",
              "      const length = Math.min(fileData.byteLength - position, MAX_PAYLOAD_SIZE);\n",
              "      const chunk = new Uint8Array(fileData, position, length);\n",
              "      position += length;\n",
              "\n",
              "      const base64 = btoa(String.fromCharCode.apply(null, chunk));\n",
              "      yield {\n",
              "        response: {\n",
              "          action: 'append',\n",
              "          file: file.name,\n",
              "          data: base64,\n",
              "        },\n",
              "      };\n",
              "\n",
              "      let percentDone = fileData.byteLength === 0 ?\n",
              "          100 :\n",
              "          Math.round((position / fileData.byteLength) * 100);\n",
              "      percent.textContent = `${percentDone}% done`;\n",
              "\n",
              "    } while (position < fileData.byteLength);\n",
              "  }\n",
              "\n",
              "  // All done.\n",
              "  yield {\n",
              "    response: {\n",
              "      action: 'complete',\n",
              "    }\n",
              "  };\n",
              "}\n",
              "\n",
              "scope.google = scope.google || {};\n",
              "scope.google.colab = scope.google.colab || {};\n",
              "scope.google.colab._files = {\n",
              "  _uploadFiles,\n",
              "  _uploadFilesContinue,\n",
              "};\n",
              "})(self);\n",
              "</script> "
            ]
          },
          "metadata": {}
        },
        {
          "output_type": "stream",
          "name": "stdout",
          "text": [
            "Saving CSVEstacio.csv to CSVEstacio (14).csv\n"
          ]
        }
      ]
    },
    {
      "cell_type": "code",
      "source": [
        "filename = list(upload.keys())[0]\n",
        "df = pd.read_csv(filename, delimiter=';')\n",
        "df['Date'] = df['Date'].str.replace(\"'\", \"\")"
      ],
      "metadata": {
        "id": "I0Cf1bNknHMJ"
      },
      "execution_count": 137,
      "outputs": []
    },
    {
      "cell_type": "code",
      "source": [
        "df_copy = df"
      ],
      "metadata": {
        "id": "S7OxuBSwvAXc"
      },
      "execution_count": 138,
      "outputs": []
    },
    {
      "cell_type": "code",
      "source": [
        "df_nulos = df_copy[df_copy.isnull().any(axis=1)]"
      ],
      "metadata": {
        "id": "ROM7Mhfrunl2"
      },
      "execution_count": 139,
      "outputs": []
    },
    {
      "cell_type": "code",
      "source": [
        "print(df_nulos.head())"
      ],
      "metadata": {
        "colab": {
          "base_uri": "https://localhost:8080/"
        },
        "id": "swmMN4tpvEsl",
        "outputId": "3e6f6cc0-5f2d-4206-b611-0ff4e1a2ea58"
      },
      "execution_count": 140,
      "outputs": [
        {
          "output_type": "stream",
          "name": "stdout",
          "text": [
            "    ID  Duration        Date  Pulse  Maxpulse Calories\n",
            "18  18        45  2020/12/18     90       112      NaN\n",
            "22  22        45         NaN    100       119     2820\n",
            "28  28        60  2020/12/28    103       132      NaN\n"
          ]
        }
      ]
    },
    {
      "cell_type": "code",
      "source": [
        "df_copy['Calories'] = df_copy['Calories'].fillna(0)"
      ],
      "metadata": {
        "id": "zxgFSV9OwIG9"
      },
      "execution_count": 141,
      "outputs": []
    },
    {
      "cell_type": "code",
      "source": [
        "df_nulos = df_copy[df_copy.isnull().any(axis = 1)]"
      ],
      "metadata": {
        "id": "iIwnbT7MwQbt"
      },
      "execution_count": 142,
      "outputs": []
    },
    {
      "cell_type": "code",
      "source": [
        "print(df_nulos.head())"
      ],
      "metadata": {
        "colab": {
          "base_uri": "https://localhost:8080/"
        },
        "id": "mRvO8PomwWbv",
        "outputId": "2d6057b2-bab3-4ce4-bdf9-60a9d1b636d7"
      },
      "execution_count": 143,
      "outputs": [
        {
          "output_type": "stream",
          "name": "stdout",
          "text": [
            "    ID  Duration Date  Pulse  Maxpulse Calories\n",
            "22  22        45  NaN    100       119     2820\n"
          ]
        }
      ]
    },
    {
      "cell_type": "code",
      "source": [
        "df_copy['Date'] = df_copy['Date'].fillna('1900/01/01')"
      ],
      "metadata": {
        "id": "MSNR43pEwtkA"
      },
      "execution_count": 144,
      "outputs": []
    },
    {
      "cell_type": "code",
      "source": [
        "df_nulos = df_copy[df_copy.isnull().any(axis = 1)]"
      ],
      "metadata": {
        "id": "4lv-tLLow5e6"
      },
      "execution_count": 145,
      "outputs": []
    },
    {
      "cell_type": "code",
      "source": [
        "print(df_nulos.head())"
      ],
      "metadata": {
        "colab": {
          "base_uri": "https://localhost:8080/"
        },
        "id": "c9hqurPCxBhW",
        "outputId": "e5c55eda-3bb3-40ca-9263-490808017f1f"
      },
      "execution_count": 146,
      "outputs": [
        {
          "output_type": "stream",
          "name": "stdout",
          "text": [
            "Empty DataFrame\n",
            "Columns: [ID, Duration, Date, Pulse, Maxpulse, Calories]\n",
            "Index: []\n"
          ]
        }
      ]
    },
    {
      "cell_type": "code",
      "source": [
        "print(df_copy['Date'])"
      ],
      "metadata": {
        "colab": {
          "base_uri": "https://localhost:8080/"
        },
        "id": "cMuwrqagys0W",
        "outputId": "4259960d-782e-49ee-b53c-1df6553196da"
      },
      "execution_count": 147,
      "outputs": [
        {
          "output_type": "stream",
          "name": "stdout",
          "text": [
            "0     2020/12/01\n",
            "1     2020/12/02\n",
            "2     2020/12/03\n",
            "3     2020/12/04\n",
            "4     2020/12/05\n",
            "5     2020/12/06\n",
            "6     2020/12/07\n",
            "7     2020/12/08\n",
            "8     2020/12/09\n",
            "9     2020/12/10\n",
            "10    2020/12/11\n",
            "11    2020/12/12\n",
            "12    2020/12/12\n",
            "13    2020/12/13\n",
            "14    2020/12/14\n",
            "15    2020/12/15\n",
            "16    2020/12/16\n",
            "17    2020/12/17\n",
            "18    2020/12/18\n",
            "19    2020/12/19\n",
            "20    2020/12/20\n",
            "21    2020/12/21\n",
            "22    1900/01/01\n",
            "23    2020/12/23\n",
            "24    2020/12/24\n",
            "25    2020/12/25\n",
            "26      20201226\n",
            "27    2020/12/27\n",
            "28    2020/12/28\n",
            "29    2020/12/29\n",
            "30    2020/12/30\n",
            "31    2020/12/31\n",
            "Name: Date, dtype: object\n"
          ]
        }
      ]
    },
    {
      "cell_type": "code",
      "source": [
        "df_copy['Date'] = df_copy['Date'].replace('1900/01/01', np.nan)"
      ],
      "metadata": {
        "id": "RJbFIbwMz33f"
      },
      "execution_count": 149,
      "outputs": []
    },
    {
      "cell_type": "code",
      "source": [
        "print(df_copy['Date'])"
      ],
      "metadata": {
        "colab": {
          "base_uri": "https://localhost:8080/"
        },
        "id": "mwgqzFuw0QIa",
        "outputId": "35d2e3e2-9f76-45a7-a35f-040967326384"
      },
      "execution_count": 151,
      "outputs": [
        {
          "output_type": "stream",
          "name": "stdout",
          "text": [
            "0     2020/12/01\n",
            "1     2020/12/02\n",
            "2     2020/12/03\n",
            "3     2020/12/04\n",
            "4     2020/12/05\n",
            "5     2020/12/06\n",
            "6     2020/12/07\n",
            "7     2020/12/08\n",
            "8     2020/12/09\n",
            "9     2020/12/10\n",
            "10    2020/12/11\n",
            "11    2020/12/12\n",
            "12    2020/12/12\n",
            "13    2020/12/13\n",
            "14    2020/12/14\n",
            "15    2020/12/15\n",
            "16    2020/12/16\n",
            "17    2020/12/17\n",
            "18    2020/12/18\n",
            "19    2020/12/19\n",
            "20    2020/12/20\n",
            "21    2020/12/21\n",
            "22           NaN\n",
            "23    2020/12/23\n",
            "24    2020/12/24\n",
            "25    2020/12/25\n",
            "26      20201226\n",
            "27    2020/12/27\n",
            "28    2020/12/28\n",
            "29    2020/12/29\n",
            "30    2020/12/30\n",
            "31    2020/12/31\n",
            "Name: Date, dtype: object\n"
          ]
        }
      ]
    },
    {
      "cell_type": "code",
      "source": [
        "df_copy['Date'] = df_copy['Date'].replace('20201226', '2020/12/26')"
      ],
      "metadata": {
        "id": "JA7CSKsG0W2k"
      },
      "execution_count": 152,
      "outputs": []
    },
    {
      "cell_type": "code",
      "source": [
        "print(df_copy['Date'])"
      ],
      "metadata": {
        "colab": {
          "base_uri": "https://localhost:8080/"
        },
        "id": "9VW9nj8L0gS7",
        "outputId": "248cc1ee-c262-4686-d9aa-ef37ae510528"
      },
      "execution_count": 153,
      "outputs": [
        {
          "output_type": "stream",
          "name": "stdout",
          "text": [
            "0     2020/12/01\n",
            "1     2020/12/02\n",
            "2     2020/12/03\n",
            "3     2020/12/04\n",
            "4     2020/12/05\n",
            "5     2020/12/06\n",
            "6     2020/12/07\n",
            "7     2020/12/08\n",
            "8     2020/12/09\n",
            "9     2020/12/10\n",
            "10    2020/12/11\n",
            "11    2020/12/12\n",
            "12    2020/12/12\n",
            "13    2020/12/13\n",
            "14    2020/12/14\n",
            "15    2020/12/15\n",
            "16    2020/12/16\n",
            "17    2020/12/17\n",
            "18    2020/12/18\n",
            "19    2020/12/19\n",
            "20    2020/12/20\n",
            "21    2020/12/21\n",
            "22           NaN\n",
            "23    2020/12/23\n",
            "24    2020/12/24\n",
            "25    2020/12/25\n",
            "26    2020/12/26\n",
            "27    2020/12/27\n",
            "28    2020/12/28\n",
            "29    2020/12/29\n",
            "30    2020/12/30\n",
            "31    2020/12/31\n",
            "Name: Date, dtype: object\n"
          ]
        }
      ]
    },
    {
      "cell_type": "code",
      "source": [
        "df_copy['Date'] = pd.to_datetime(df_copy['Date'], format='%Y/%m/%d')"
      ],
      "metadata": {
        "id": "YTXVQ1630NQ8"
      },
      "execution_count": 154,
      "outputs": []
    },
    {
      "cell_type": "code",
      "source": [
        "df_copy = df_copy.dropna(subset=['Date'])"
      ],
      "metadata": {
        "id": "GHtaHbMe0tHm"
      },
      "execution_count": 155,
      "outputs": []
    },
    {
      "cell_type": "code",
      "source": [
        "print(df_copy['Date'])"
      ],
      "metadata": {
        "colab": {
          "base_uri": "https://localhost:8080/"
        },
        "id": "ozUjZ-jk09w-",
        "outputId": "fa5d143c-4e6c-4af3-8245-15e114d2357c"
      },
      "execution_count": 156,
      "outputs": [
        {
          "output_type": "stream",
          "name": "stdout",
          "text": [
            "0    2020-12-01\n",
            "1    2020-12-02\n",
            "2    2020-12-03\n",
            "3    2020-12-04\n",
            "4    2020-12-05\n",
            "5    2020-12-06\n",
            "6    2020-12-07\n",
            "7    2020-12-08\n",
            "8    2020-12-09\n",
            "9    2020-12-10\n",
            "10   2020-12-11\n",
            "11   2020-12-12\n",
            "12   2020-12-12\n",
            "13   2020-12-13\n",
            "14   2020-12-14\n",
            "15   2020-12-15\n",
            "16   2020-12-16\n",
            "17   2020-12-17\n",
            "18   2020-12-18\n",
            "19   2020-12-19\n",
            "20   2020-12-20\n",
            "21   2020-12-21\n",
            "23   2020-12-23\n",
            "24   2020-12-24\n",
            "25   2020-12-25\n",
            "26   2020-12-26\n",
            "27   2020-12-27\n",
            "28   2020-12-28\n",
            "29   2020-12-29\n",
            "30   2020-12-30\n",
            "31   2020-12-31\n",
            "Name: Date, dtype: datetime64[ns]\n"
          ]
        }
      ]
    }
  ]
}